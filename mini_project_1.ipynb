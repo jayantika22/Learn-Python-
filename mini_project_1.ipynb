{
  "nbformat": 4,
  "nbformat_minor": 0,
  "metadata": {
    "colab": {
      "provenance": [],
      "authorship_tag": "ABX9TyMf0yxS/6kq8jII320Kv+1i",
      "include_colab_link": true
    },
    "kernelspec": {
      "name": "python3",
      "display_name": "Python 3"
    },
    "language_info": {
      "name": "python"
    }
  },
  "cells": [
    {
      "cell_type": "markdown",
      "metadata": {
        "id": "view-in-github",
        "colab_type": "text"
      },
      "source": [
        "<a href=\"https://colab.research.google.com/github/jayantika22/Learn-Python-/blob/main/mini_project_1.ipynb\" target=\"_parent\"><img src=\"https://colab.research.google.com/assets/colab-badge.svg\" alt=\"Open In Colab\"/></a>"
      ]
    },
    {
      "cell_type": "code",
      "execution_count": 4,
      "metadata": {
        "colab": {
          "base_uri": "https://localhost:8080/"
        },
        "id": "7Z7SmtQhtOt5",
        "outputId": "d323ea5a-a7d2-4f05-9b97-fd4b8d402b57"
      },
      "outputs": [
        {
          "output_type": "stream",
          "name": "stdout",
          "text": [
            "['1', '2', '3', 'AMAN', 'RAM', 'SHYAM']\n",
            "[1, 2, 3, 'AMAN', 'RAM', 'SHYAM']\n"
          ]
        }
      ],
      "source": [
        "import time\n",
        "t1= time.time()\n",
        "\n",
        "L = [\"RAM\", 1, \"SHYAM\", 2, \"AMAN\", 3]\n",
        "L = [str(i) for i in L]\n",
        "\n",
        "L.sort()\n",
        "print(L)\n",
        "\n",
        "L1 = []\n",
        "for i in L:\n",
        "  try:\n",
        "    L1.append(int(i))\n",
        "  except:\n",
        "    L1.append(i)\n",
        "\n",
        "print(L1)\n",
        "\n",
        "t2 = time.time()\n",
        "\n",
        "print(\"total time\", t2-t1)\n"
      ]
    }
  ]
}